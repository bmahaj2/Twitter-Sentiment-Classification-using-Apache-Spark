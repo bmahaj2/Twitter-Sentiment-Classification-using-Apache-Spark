{
 "cells": [
  {
   "cell_type": "markdown",
   "metadata": {},
   "source": [
    "<h1>Twitter Sentiment Classification using Apache Spark</h1>\n",
    "<br>Additional installation required\n",
    "We need to install nltk to implement SnowballStemmer. Execute the following command to install nltk<br>\n",
    "</br>!pip install nltk<br>"
   ]
  },
  {
   "cell_type": "code",
   "execution_count": 1,
   "metadata": {
    "collapsed": true
   },
   "outputs": [],
   "source": [
    "import sys\n",
    "import csv\n",
    "#from _csv import reader\n",
    "import string\n",
    "import re\n",
    "import random\n",
    "import pyspark\n",
    "from nltk.stem.snowball import SnowballStemmer\n",
    "from pyspark.mllib.classification import NaiveBayes, NaiveBayesModel\n",
    "from pyspark.mllib.linalg import Vectors\n",
    "from pyspark.mllib.regression import LabeledPoint\n",
    "from pyspark import SparkContext\n",
    "from pyspark.mllib.feature import HashingTF\n",
    "from pyspark.mllib.classification import LogisticRegressionWithLBFGS, LogisticRegressionModel\n",
    "from pyspark.mllib.evaluation import BinaryClassificationMetrics\n",
    "from pyspark.mllib.evaluation import MulticlassMetrics\n",
    "from pyspark.mllib.util import MLUtils\n",
    "from pyspark.mllib.regression import LabeledPoint\n",
    "\n",
    "import matplotlib.pyplot as plt\n",
    "import numpy as np\n",
    "\n",
    "sc = pyspark.SparkContext('local[*]')"
   ]
  },
  {
   "cell_type": "markdown",
   "metadata": {},
   "source": [
    "Below is the function to perform stemming, using Snowball Stemmer. This function is called later when cleaning the tweets."
   ]
  },
  {
   "cell_type": "code",
   "execution_count": 2,
   "metadata": {
    "collapsed": true
   },
   "outputs": [],
   "source": [
    "def Stemmer_fun(lowercase_tweet):\n",
    "    empty_string=\"\"\n",
    "    split_wo=lowercase_tweet.split()\n",
    "    for i in range(len(split_wo)):\n",
    "        empty_string=empty_string+\" \"+(SnowballStemmer(\"english\").stem(split_wo[i]))\n",
    "    return empty_string\n",
    "        "
   ]
  },
  {
   "cell_type": "markdown",
   "metadata": {},
   "source": [
    "The following function CallHashing(wi_punlist,polarity_list) takes two parameters. First paramater is a list of cleaned tweets \n",
    "the second parameter is a list of polarities. Using hashingTF this function creates a LabeledPoint of polarity and text of each \n",
    "tweet and creates a list of LabeledPoint. We will see later that these LabeledPoint are input to various classifiers."
   ]
  },
  {
   "cell_type": "code",
   "execution_count": 3,
   "metadata": {
    "collapsed": true
   },
   "outputs": [],
   "source": [
    "def CallHashing(wi_punlist,polarity_list):   #this function is used to create LabeledPoint\n",
    "    hashingTF = HashingTF()\n",
    "    count=-1\n",
    "    data=[]\n",
    "    for line in wi_punlist:\n",
    "        count=count+1\n",
    "        documents=line.split(\" \")\n",
    "\n",
    "        tf = hashingTF.transform(documents)\n",
    "        #print(tf)\n",
    "        data.append(LabeledPoint(polarity_list[count], tf))\n",
    "        \n",
    "    return data\n"
   ]
  },
  {
   "cell_type": "markdown",
   "metadata": {},
   "source": [
    "The partition function is used to divide a list into some equal parts. It takes as input two parameters. First parameter is a \n",
    "list and second parameter is the number of parts in which a list should be divided. We use this partition function during 10 fold cross validation to divide a list into 10 equal parts."
   ]
  },
  {
   "cell_type": "code",
   "execution_count": 4,
   "metadata": {
    "collapsed": true
   },
   "outputs": [],
   "source": [
    "def partition(lst, n):\n",
    "    division = len(lst) / float(n)\n",
    "    return [ lst[int(round(division * i)): int(round(division * (i + 1)))] for i in range(n) ]"
   ]
  },
  {
   "cell_type": "markdown",
   "metadata": {},
   "source": [
    "The following code block reads the train.csv file and extracts polarity and tweet text from it and then performs cleaning of\n",
    "words in the tweets, calls Stemmer_fun to perform stemming and removes stopwords from the text of tweets and calls CallHashing function to perform HashingTF to get LabeledPoints"
   ]
  },
  {
   "cell_type": "code",
   "execution_count": 6,
   "metadata": {
    "collapsed": false
   },
   "outputs": [],
   "source": [
    "csv_file = open('train.csv','r',encoding='ISO-8859-1')\n",
    "file_reader = csv.reader(csv_file)\n",
    "stopwords_file=open('stopwords.txt')\n",
    "stopwords=[]\n",
    "for line2 in stopwords_file:\n",
    "    stopwords.append(line2.strip())\n",
    "#print(stopwords)\n",
    "wi_punlist=[]\n",
    "polarity_list=[]\n",
    "orig_tweet=[]\n",
    "\n",
    "for row in file_reader:\n",
    "    tweet=row[5]\n",
    "    orig_tweet.append(tweet)\n",
    "    lowercase_tweet=tweet.lower()\n",
    "    polarity=row[0]\n",
    "    polarity_list.append(polarity)\n",
    "\n",
    "\n",
    "\n",
    "    lowercase_tweet=re.sub(r'(http|https|http\\(s\\)):\\/\\/[^\\s]*[\\r\\n]*', \"URL\",lowercase_tweet)# replace http or https by URL\n",
    "    lowercase_tweet=re.sub(r'(www\\.)[^\\s]*[\\r\\n]*',\"URL\",lowercase_tweet) #remove tweet words starting with www.with URL\n",
    "    lowercase_tweet=re.sub(r'@[^\\s]*[\\r\\n]*', \"AT_USER\", lowercase_tweet)#replace strings starting with @ with AT_USER\n",
    "    lowercase_tweet=re.sub(r'((.)\\2)(\\2+)', r'\\1', lowercase_tweet) #remove multiple occurances of a character like hellooooo\n",
    "    lowercase_tweet=re.sub(r'(^|\\s)[0-9]+[^\\s]*',\"\",lowercase_tweet) #remove characters starting with number\n",
    "\n",
    "\n",
    "    lowercase_tweet=Stemmer_fun(lowercase_tweet)\n",
    "\n",
    "\n",
    "\n",
    "    pun=set(string.punctuation)\n",
    "    without_pun=''.join(x for x in lowercase_tweet if x not in pun)\n",
    "    wi_punlist.append(without_pun)\n",
    "\n",
    "\n",
    "\n",
    "for i in range(len(wi_punlist)):\n",
    "    split_word=wi_punlist[i].split()\n",
    "    for j in range(len(split_word)):\n",
    "        if split_word[j] in stopwords:\n",
    "            wi_punlist[i]=re.sub(r\"\\b\"+split_word[j]+r\"\\b\",\"\",wi_punlist[i])\n",
    "\n",
    "\n",
    "\n",
    "list_words=[]\n",
    "for tweet in wi_punlist:\n",
    "    for var in tweet.split():\n",
    "        if var.strip() in list_words:\n",
    "            continue\n",
    "        else:\n",
    "            list_words.append(var)\n",
    "\n",
    "\n",
    "\n",
    "\n",
    "data=CallHashing(wi_punlist,polarity_list)\n",
    "\n",
    "#test_data=testfile()\n",
    "\n",
    "#############################################################################################\n",
    "random.shuffle(data)\n",
    "\n",
    "randomdata_list=[]\n",
    "randomdata_list.extend(data)\n",
    "\n",
    "data_foldlist=[]\n",
    "data_foldlist=partition(randomdata_list, 10)\n",
    "#############################################################################################\n",
    "\n",
    "#Accuracy_NB_training=BuildNaiveBayesClassifier(data)           #######uncomment it\n",
    "\n",
    "#Accuracy_LR_training=LogicalRegressionClassifier(data)##################### uncomment it\n",
    "\n",
    "\n",
    "\n",
    "\n",
    "#Accuracy_NB_Kfold=KfoldNaiveBayes(data_foldlist) ##########uncomment it\n",
    "\n",
    "\n",
    "\n",
    "#Accuracy_LR_Kfold=KfoldLogicalRegression(data_foldlist) ####################uncomment it\n",
    "\n",
    "\n",
    "#Accuracy_NB_test=NaiveBayesTrainTest(data,test_data) #####################uncomment it\n",
    "\n",
    "#Accuracy_LR_test=LogicalRegressionTrainTest(data,test_data,polarity_list,orig_tweet) ################uncomment it\n",
    "\n",
    "\n",
    "\n",
    "\n",
    "#x_NB= [2,4,6]\n",
    "#y_NB=[]\n",
    "\n",
    "#y_NB.append(Accuracy_NB_training)\n",
    "#y_NB.append(Accuracy_NB_test)\n",
    "#y_NB.append(Accuracy_NB_Kfold)\n",
    "\n",
    "#PlotGraph(x_NB,y_NB)\n",
    "\n",
    "\n",
    "#x_LR=[2,4]\n",
    "#y_LR=[]\n",
    "\n",
    "#y_LR.append(Accuracy_LR_training)\n",
    "#y_LR.append(Accuracy_LR_test)\n",
    "#y_LR.append(Accuracy_LR_Kfold)\n",
    "\n",
    "#PlotGraph(x_LR,y_LR)\n",
    "\n",
    "\n",
    "\n",
    "\n",
    "\n",
    "\n",
    "\n",
    "\n",
    "\n",
    "\n",
    "\n"
   ]
  },
  {
   "cell_type": "markdown",
   "metadata": {},
   "source": [
    "The following code block reads the test.csv file and extracts polarity and tweet text from it and then performs cleaning of\n",
    "words in the tweets, calls Stemmer_fun to perform stemming and removes stopwords from the text of tweets and calls CallHashing function to perform HashingTF to get LabeledPoints"
   ]
  },
  {
   "cell_type": "code",
   "execution_count": 7,
   "metadata": {
    "collapsed": true
   },
   "outputs": [],
   "source": [
    "# To clean the test.csv file\n",
    "csv_file = open('test.csv','r',encoding='ISO-8859-1')\n",
    "file_reader = csv.reader(csv_file)\n",
    "stopwords_file=open('stopwords.txt')\n",
    "stopwords=[]\n",
    "for line2 in stopwords_file:\n",
    "    stopwords.append(line2.strip())\n",
    "#print(stopwords)\n",
    "wi_punlist=[]\n",
    "polarity_list=[]\n",
    "\n",
    "for row in file_reader:\n",
    "    tweet=row[5]\n",
    "    lowercase_tweet=tweet.lower()\n",
    "    polarity=row[0]\n",
    "    polarity_list.append(polarity)\n",
    "\n",
    "\n",
    "\n",
    "    lowercase_tweet=re.sub(r'(http|https|http\\(s\\)):\\/\\/[^\\s]*[\\r\\n]*', \"URL\",lowercase_tweet)# replace http or https by URL\n",
    "    lowercase_tweet=re.sub(r'(www\\.)[^\\s]*[\\r\\n]*',\"URL\",lowercase_tweet) #remove tweet words starting with www. with URL\n",
    "    lowercase_tweet=re.sub(r'@[^\\s]*[\\r\\n]*', \"AT_USER\", lowercase_tweet)#replace strings starting with @ with AT_USER\n",
    "    lowercase_tweet=re.sub(r'((.)\\2)(\\2+)', r'\\1', lowercase_tweet) #remove multiple occurances of a character like hellooooo\n",
    "    lowercase_tweet=re.sub(r'(^|\\s)[0-9]+[^\\s]*',\"\",lowercase_tweet) #remove characters starting with number\n",
    "\n",
    "\n",
    "    lowercase_tweet=Stemmer_fun(lowercase_tweet)\n",
    "\n",
    "\n",
    "\n",
    "    pun=set(string.punctuation)\n",
    "    without_pun=''.join(x for x in lowercase_tweet if x not in pun)\n",
    "    wi_punlist.append(without_pun)\n",
    "\n",
    "\n",
    "\n",
    "for i in range(len(wi_punlist)):\n",
    "    split_word=wi_punlist[i].split()\n",
    "    for j in range(len(split_word)):\n",
    "        if split_word[j] in stopwords:\n",
    "            wi_punlist[i]=re.sub(r\"\\b\"+split_word[j]+r\"\\b\",\"\",wi_punlist[i])\n",
    "\n",
    "\n",
    "\n",
    "list_words=[]\n",
    "for tweet in wi_punlist:\n",
    "    for var in tweet.split():\n",
    "        if var.strip() in list_words:\n",
    "            continue\n",
    "        else:\n",
    "            list_words.append(var)\n",
    "\n",
    "\n",
    "\n",
    "test_data=CallHashing(wi_punlist,polarity_list)\n",
    "\n",
    "\n",
    "\n",
    "\n",
    "\n",
    "\n",
    "\n",
    "\n",
    "\n",
    "\n",
    "\n",
    "\n",
    "\n",
    "\n",
    "\n"
   ]
  },
  {
   "cell_type": "markdown",
   "metadata": {},
   "source": [
    "The following code is used to build model for Naive Bayes. Here we train our model using data from train.csv file and test \n",
    "our model using the same data and find training accuracy"
   ]
  },
  {
   "cell_type": "code",
   "execution_count": 8,
   "metadata": {
    "collapsed": false
   },
   "outputs": [
    {
     "name": "stdout",
     "output_type": "stream",
     "text": [
      "######################## To calculate training accuracy for NaiveBayes #############################################\n",
      "Training of naive Bayes model started\n",
      "Training Accuracy for NaiveBayes Classifier =0.8275\n",
      "########################################################################################\n"
     ]
    }
   ],
   "source": [
    "#To Build Naive Bayes Classifier\n",
    "rdd_train=sc.parallelize(data)\n",
    "rdd_test=sc.parallelize(data)\n",
    "training=rdd_train\n",
    "test=rdd_test\n",
    "\n",
    "print(\"######################## To calculate training accuracy for NaiveBayes #############################################\")\n",
    "print(\"Training of naive Bayes model started\")\n",
    "model = NaiveBayes.train(training, 1.0)\n",
    "# Make prediction and test accuracy.\n",
    "predictionAndLabel = test.map(lambda p: (model.predict(p.features), p.label))\n",
    "accuracy = 1.0 * predictionAndLabel.filter(lambda t: t[0] == t[1]).count() / test.count()\n",
    "\n",
    "\n",
    "print(\"Training Accuracy for NaiveBayes Classifier =\"+ str(accuracy))\n",
    "Accuracy_NB_training=accuracy\n",
    "print(\"########################################################################################\")\n",
    "    "
   ]
  },
  {
   "cell_type": "markdown",
   "metadata": {},
   "source": [
    "The following code is used to build model for Logistic Regression. Here we train our model using data from train.csv file and test \n",
    "our model using the same data and find training accuracy"
   ]
  },
  {
   "cell_type": "code",
   "execution_count": 9,
   "metadata": {
    "collapsed": false
   },
   "outputs": [
    {
     "name": "stdout",
     "output_type": "stream",
     "text": [
      "######################## To calculate training accuracy for Logical Regression #####################################\n",
      "Training of Logical Regression model started\n",
      "Training Error for Logical Regression Classifier = 0.09075\n",
      "Training Accuracy for Logical Regression Classifier =0.90925\n",
      "########################################################################################\n"
     ]
    }
   ],
   "source": [
    "# To Build Logical Regression Classifier\n",
    "rdd_train=sc.parallelize(data)\n",
    "rdd_test=sc.parallelize(data)\n",
    "training=rdd_train\n",
    "test=rdd_test\n",
    "\n",
    "print(\"######################## To calculate training accuracy for Logical Regression #####################################\")\n",
    "print(\"Training of Logical Regression model started\")\n",
    "model = LogisticRegressionWithLBFGS.train(training)\n",
    "labelsAndPreds = test.map(lambda p: (p.label, model.predict(p.features)))\n",
    "trainErr = labelsAndPreds.filter(lambda t: t[0] != t[1]).count() / float(test.count())\n",
    "print(\"Training Error for Logical Regression Classifier = \" + str(trainErr))\n",
    "accuracy=1-trainErr\n",
    "print(\"Training Accuracy for Logical Regression Classifier =\"+ str(accuracy))\n",
    "Accuracy_LR_training=accuracy\n",
    "\n",
    "print(\"########################################################################################\")"
   ]
  },
  {
   "cell_type": "markdown",
   "metadata": {},
   "source": [
    "The following code is used to build model for Naive Bayes. Here we train our model using data from train.csv file and test \n",
    "our model using the data from test.csv file and find test accuracy. We also calculate and print precsion, recall, F1 score,\n",
    "confusion matrix and area under ROC for Naive Bayes."
   ]
  },
  {
   "cell_type": "code",
   "execution_count": 10,
   "metadata": {
    "collapsed": false
   },
   "outputs": [
    {
     "name": "stdout",
     "output_type": "stream",
     "text": [
      "###################### To calculate test accuracy for NaiveBayes ######################################\n",
      "Naive Bayes model training started\n",
      "Test Accuracy in Naive Bayes =0.8133704735376045\n",
      "Summary Stats for NaiveBayes\n",
      "Precision = 0.852760736196319\n",
      "Recall = 0.7637362637362637\n",
      "F1 Score = 0.8057971014492754\n",
      "Confusion matrix is printed below\n",
      "153\t24\n",
      "43\t139\n",
      "Area under ROC = 0.8140715216986404\n",
      "########################################################################################\n"
     ]
    }
   ],
   "source": [
    "# Naive Bayes train test. Train on train.csv and test on test.csv\n",
    "rdd_train=sc.parallelize(data)\n",
    "rdd_test=sc.parallelize(test_data)\n",
    "training=rdd_train\n",
    "test=rdd_test\n",
    "print(\"###################### To calculate test accuracy for NaiveBayes ######################################\")\n",
    "print(\"Naive Bayes model training started\")\n",
    "model = NaiveBayes.train(training, 1.0)\n",
    "# Make prediction and test accuracy.\n",
    "predictionAndLabel = test.map(lambda p: (model.predict(p.features), p.label))\n",
    "accuracy = 1.0 * predictionAndLabel.filter(lambda t: t[0] == t[1]).count() / test.count()\n",
    "print(\"Test Accuracy in Naive Bayes =\"+ str(accuracy))\n",
    "\n",
    "##########################################################################################\n",
    "TP=predictionAndLabel.filter(lambda t: t[0] == t[1] and t[1]==1).count()\n",
    "TN=predictionAndLabel.filter(lambda t: t[0] == t[1] and t[1]==0).count()\n",
    "FP=predictionAndLabel.filter(lambda t: t[0] != t[1] and t[1]==0).count()\n",
    "FN=predictionAndLabel.filter(lambda t: t[0] != t[1] and t[1]==1).count()\n",
    "\n",
    "precision=TP/(TP+FP)\n",
    "recall=TP/(TP+FN)\n",
    "f1Score=2*(precision*recall)/(precision+recall)\n",
    "\n",
    "print(\"Summary Stats for NaiveBayes\")\n",
    "print(\"Precision = %s\" % precision)\n",
    "print(\"Recall = %s\" % recall)\n",
    "print(\"F1 Score = %s\" % f1Score)\n",
    "print(\"Confusion matrix is printed below\")\n",
    "row1=str(TN)+'\\t'+str(FP)\n",
    "row2=str(FN)+'\\t'+str(TP)\n",
    "print(row1)\n",
    "print(row2)\n",
    "\n",
    "###################################################### following code is for ROC\n",
    "\n",
    "# Compute raw scores on the test set\n",
    "predictionAndLabels = test.map(lambda lp: (float(model.predict(lp.features)), lp.label))\n",
    "\n",
    "# Instantiate metrics object\n",
    "metrics = BinaryClassificationMetrics(predictionAndLabels)\n",
    "\n",
    "# Area under precision-recall curve\n",
    "#print(\"Area under PR = %s\" % metrics.areaUnderPR)\n",
    "\n",
    "# Area under ROC curve\n",
    "print(\"Area under ROC = %s\" % metrics.areaUnderROC)\n",
    "\n",
    "Accuracy_NB_test=accuracy\n",
    "\n",
    "#####################################################################################\n",
    "\n",
    "#test1=test.collect()\n",
    "#model.clearThreshold()\n",
    "#for i in range (len(test1)):\n",
    " #   prediction=model.predict(test1[i].features)\n",
    "  #  #prediction= test1(lambda p: (model.predict(p.features))\n",
    "   # print(prediction)\n",
    "    #if prediction>0.5:\n",
    "     #   if test1[i].label==1:\n",
    "      #      print(\"Correctly predicted tweet with probabilty \"+str(prediction)+\" : \"+tweet_list[i])\n",
    "       # else:\n",
    "        #    print(\"Incorrectly predicted tweet with probabilty \"+str(prediction)+\" : \"+tweet_list[i])\n",
    "\n",
    "##################################################################following code for statistics\n",
    "# Overall statistics\n",
    "#     metrics = MulticlassMetrics(predictionAndLabels)\n",
    "#     precision = metrics.precision()\n",
    "#     recall = metrics.recall()\n",
    "#     f1Score = metrics.fMeasure()\n",
    "#     print(\"Summary Stats\")\n",
    "#     print(\"Precision = %s\" % precision)\n",
    "#     print(\"Recall = %s\" % recall)\n",
    "#     print(\"F1 Score = %s\" % f1Score)\n",
    "#     #print(\"confusion metric without print\")\n",
    "#     #metrics.confusionMatrix().toArray()\n",
    "#     print(\"confusion metric after print\")\n",
    "#     print(metrics.confusionMatrix().toArray())\n",
    "\n",
    "print(\"########################################################################################\")\n",
    "\n",
    "#return(accuracy)\n",
    "\n",
    "\n",
    "###########################################################"
   ]
  },
  {
   "cell_type": "markdown",
   "metadata": {},
   "source": [
    "The following code is used to build model for Logistic Regression. Here we train our model using data from train.csv file and test \n",
    "our model using the data from test.csv file and find test accuracy. We also calculate and print precsion, recall, F1 score,\n",
    "confusion matrix and area under ROC for Logistic Regression. Here I am also finding and printing some tweets that were classified correctly and some tweets that were classified incorrectly"
   ]
  },
  {
   "cell_type": "code",
   "execution_count": 24,
   "metadata": {
    "collapsed": false
   },
   "outputs": [
    {
     "name": "stdout",
     "output_type": "stream",
     "text": [
      "###################### To calculate test accuracy for Logistic Regression ######################################\n",
      "Logistic Regression model training started\n",
      "Training Error = 0.2116991643454039\n",
      "Test accuracy for Logistic Regression =0.7883008356545961\n",
      "Summary Stats for Logistic Regression\n",
      "Precision = 0.8296703296703297\n",
      "Recall = 0.7704081632653061\n",
      "F1 Score = 0.798941798941799\n",
      "Confusion matrix is printed below\n",
      "132\t31\n",
      "45\t151\n",
      "Area under ROC = 0.7877165207673683\n",
      "Some tweets that were classified correctly along with their prediction probabilities are\n",
      "(0.9999939438476336, \"@switchfoot http://twitpic.com/2y1zl - Awww, that's a bummer.  You shoulda got David Carr of Third Day to do it. ;D\")\n",
      "(0.9995619952238444, \"@alydesigns i was out most of the day so didn't get much done \")\n",
      "(0.9764762777988473, \"really don't feel like getting up today... but got to study to for tomorrows practical exam... \")\n",
      "(0.7974355272453987, \"@BatManYNG I miss my ps3, it's out of commission  Wutcha playing? Have you copped 'Blood On The Sand'?\")\n",
      "(0.9975146449125533, 'sleep soon... i just hate saying bye and see you tomorrow for the night. ')\n",
      "Some tweets that were classified incorrectly along with their prediction probabilities are\n",
      "(0.051536823536216865, 'sadly is going to bed. ')\n",
      "(0.6984757171907514, \"@griffmiester no exchanging for me, my laptop hasn't arrived \")\n",
      "(0.22495272423420345, '@SupaMagg that happened to me saturday night. along with my glittery green lighter! ')\n",
      "(0.00840059763518824, '@ddlovato @David_Henrie ummmmm i cant find it. ')\n",
      "(0.7487423280431363, \"I'm ready for the weekend already. It's only Monday. \")\n",
      "5 correct tweets with highest predicted probability are\n",
      "@kristenkreuk fiuhh, nice to get info from you, i'm one of your fans from indonesia. and still waiting for your movie in my country  thanx\n",
      "@switchfoot http://twitpic.com/2y1zl - Awww, that's a bummer.  You shoulda got David Carr of Third Day to do it. ;D\n",
      "I heard he stopped singing.  It's a shameï¿½ ? http://blip.fm/~3xath\n",
      "i could not update at all yesterday \n",
      "The one day I have to go to school is the same day something exciting happens at parliament square \n",
      "5 incorrect tweets with highest predicted probability are\n",
      "has a very sore hand \n",
      "I need SIMS 3. Gaah! \n",
      "thinks that Nigella does a shit tea add \n",
      "Argh...throttled to 64k up and down...I know dialup was slower than this, but man the net is painful at this speed \n",
      "Feeling soree, bad idea to go running when your sick \n",
      "########################################################################################\n"
     ]
    }
   ],
   "source": [
    "print(\"###################### To calculate test accuracy for Logistic Regression ######################################\")\n",
    "pol_list=polarity_list\n",
    "tweet_list=orig_tweet\n",
    "rdd_train=sc.parallelize(data)\n",
    "rdd_test=sc.parallelize(test_data)\n",
    "training=rdd_train\n",
    "test=rdd_test\n",
    "# Train a naive Bayes model.\n",
    "\n",
    "print(\"Logistic Regression model training started\")\n",
    "model = LogisticRegressionWithLBFGS.train(training)\n",
    "labelsAndPreds = test.map(lambda p: (p.label, model.predict(p.features)))\n",
    "trainErr = labelsAndPreds.filter(lambda t: t[0] != t[1]).count() / float(test.count())\n",
    "print(\"Training Error = \" + str(trainErr))\n",
    "accuracy=1-trainErr\n",
    "print(\"Test accuracy for Logistic Regression =\"+ str(accuracy))\n",
    "###########################################################################\n",
    "TP=labelsAndPreds.filter(lambda t: t[0] == t[1] and t[1]==1).count()\n",
    "TN=labelsAndPreds.filter(lambda t: t[0] == t[1] and t[1]==0).count()\n",
    "FP=labelsAndPreds.filter(lambda t: t[0] != t[1] and t[1]==0).count()\n",
    "FN=labelsAndPreds.filter(lambda t: t[0] != t[1] and t[1]==1).count()\n",
    "\n",
    "precision=TP/(TP+FP)\n",
    "recall=TP/(TP+FN)\n",
    "f1Score=2*(precision*recall)/(precision+recall)\n",
    "\n",
    "print(\"Summary Stats for Logistic Regression\")\n",
    "print(\"Precision = %s\" % precision)\n",
    "print(\"Recall = %s\" % recall)\n",
    "print(\"F1 Score = %s\" % f1Score)\n",
    "print(\"Confusion matrix is printed below\")\n",
    "row1=str(TN)+'\\t'+str(FP)\n",
    "row2=str(FN)+'\\t'+str(TP)\n",
    "print(row1)\n",
    "print(row2)\n",
    "\n",
    "\n",
    "###################################################### following code is for ROC\n",
    "\n",
    "# Compute raw scores on the test set\n",
    "predictionAndLabels = test.map(lambda lp: (float(model.predict(lp.features)), lp.label))\n",
    "\n",
    "# Instantiate metrics object\n",
    "metrics = BinaryClassificationMetrics(predictionAndLabels)\n",
    "\n",
    "# Area under precision-recall curve\n",
    "#print(\"Area under PR = %s\" % metrics.areaUnderPR)\n",
    "\n",
    "# Area under ROC curve\n",
    "print(\"Area under ROC = %s\" % metrics.areaUnderROC)\n",
    "##################################################################following code for statistics\n",
    "\n",
    "test1=test.collect()\n",
    "model.clearThreshold()\n",
    "correct_tweet=[]\n",
    "incorrect_tweet=[]\n",
    "for i in range (len(test1)):\n",
    "    prediction=model.predict(test1[i].features)\n",
    "    #prediction= test1(lambda p: (model.predict(p.features))\n",
    "    #print(prediction)\n",
    "    if prediction>0.5:\n",
    "        if test1[i].label==1:\n",
    "            #print(\"Correctly predicted tweet with probabilty \"+str(prediction)+\" : \"+tweet_list[i])\n",
    "            correct_tweet.append((prediction,tweet_list[i]))\n",
    "        else:\n",
    "            #print(\"Incorrectly predicted tweet with probabilty \"+str(prediction)+\" : \"+tweet_list[i])\n",
    "            incorrect_tweet.append((prediction,tweet_list[i]))\n",
    "    else:\n",
    "        if prediction<0.5:\n",
    "            if test1[i].label==0:\n",
    "                #print(\"Correctly predicted tweet with probabilty \"+str(prediction)+\" : \"+tweet_list[i])\n",
    "                correct_tweet.append((prediction,tweet_list[i]))\n",
    "            else:\n",
    "                #print(\"Incorrectly predicted tweet with probabilty \"+str(prediction)+\" : \"+tweet_list[i])\n",
    "                incorrect_tweet.append((prediction,tweet_list[i]))\n",
    "\n",
    "print(\"Some tweets that were classified correctly along with their prediction probabilities are\")\n",
    "for j in range(5):\n",
    "    print(correct_tweet[j])\n",
    "print(\"Some tweets that were classified incorrectly along with their prediction probabilities are\")   \n",
    "for j in range(5):\n",
    "    print(incorrect_tweet[j])\n",
    "    \n",
    "correct_tweet=sorted(correct_tweet,key=lambda x:x[0],reverse=True)\n",
    "incorrect_tweet=sorted(incorrect_tweet,key=lambda x:x[0],reverse=True)\n",
    "\n",
    "print(\"5 correct tweets with highest predicted probability are\")\n",
    "for i in range(5):\n",
    "    print(correct_tweet[i][1])\n",
    "\n",
    "print(\"5 incorrect tweets with highest predicted probability are\")    \n",
    "for i in range(5):\n",
    "    print(incorrect_tweet[i][1])\n",
    "    \n",
    "    \n",
    "Accuracy_LR_test=accuracy\n",
    "\n",
    "###################################################################################\n",
    "\n",
    "# Overall statistics\n",
    "#     metrics = MulticlassMetrics(predictionAndLabels)\n",
    "#     precision = metrics.precision()\n",
    "#     recall = metrics.recall()\n",
    "#     f1Score = metrics.fMeasure()\n",
    "#     print(\"Summary Stats\")\n",
    "#     print(\"Precision = %s\" % precision)\n",
    "#     print(\"Recall = %s\" % recall)\n",
    "#     print(\"F1 Score = %s\" % f1Score)\n",
    "#     #print(\"confusion metric without print\")\n",
    "#     #metrics.confusionMatrix().toArray()\n",
    "#     print(\"confusion metric after print\")\n",
    "#     print(metrics.confusionMatrix().toArray())\n",
    "\n",
    "print(\"########################################################################################\")\n",
    "#return accuracy\n",
    "\n",
    "\n",
    "###########################################################\n"
   ]
  },
  {
   "cell_type": "markdown",
   "metadata": {},
   "source": [
    "In the following code I find 10 fold accuracy for Naive Bayes. It is done by dividing the data which I got from train.csv into 10\n",
    "equal parts and then training the model on nine parts and testing on one part and repeat it for all possible parts for training \n",
    "and testing."
   ]
  },
  {
   "cell_type": "code",
   "execution_count": 12,
   "metadata": {
    "collapsed": false
   },
   "outputs": [
    {
     "name": "stdout",
     "output_type": "stream",
     "text": [
      "###################### To calculate 10fold accuracy for NaiveBayes #############################################\n",
      "Training of naive Bayes model started\n",
      "Accuracy for fold number 0=0.734375\n",
      "Accuracy for fold number 1=0.739375\n",
      "Accuracy for fold number 2=0.74475\n",
      "Accuracy for fold number 3=0.74425\n",
      "Accuracy for fold number 4=0.7385\n",
      "Accuracy for fold number 5=0.745875\n",
      "Accuracy for fold number 6=0.74325\n",
      "Accuracy for fold number 7=0.745625\n",
      "Accuracy for fold number 8=0.741125\n",
      "Accuracy for fold number 9=0.750125\n",
      "average ten fold accuracy=0.742725\n",
      "########################################################################################\n"
     ]
    }
   ],
   "source": [
    "print(\"###################### To calculate 10fold accuracy for NaiveBayes #############################################\")\n",
    "print(\"Training of naive Bayes model started\")\n",
    "sum=0\n",
    "for i in range(len(data_foldlist)):\n",
    "    list_test=[]\n",
    "    list_train=[]\n",
    "    list_test.extend(data_foldlist[i])\n",
    "    for j in range(len(data_foldlist)):\n",
    "        if(i!=j):\n",
    "            list_train.extend(data_foldlist[j])\n",
    "\n",
    "\n",
    "    rdd_test=sc.parallelize(list_test)\n",
    "    rdd_train=sc.parallelize(list_train)\n",
    "\n",
    "    training=rdd_train\n",
    "    test=rdd_test\n",
    "\n",
    "\n",
    "    model = NaiveBayes.train(training, 1.0)\n",
    "\n",
    "    # Make prediction and test accuracy.\n",
    "    predictionAndLabel = test.map(lambda p: (model.predict(p.features), p.label))\n",
    "\n",
    "    accuracy = 1.0 * predictionAndLabel.filter(lambda t: t[0] == t[1]).count() / test.count()\n",
    "\n",
    "    #print(\"fold value \"+ str(i))\n",
    "    print(\"Accuracy for fold number \"+str(i)+\"=\"+str(accuracy))\n",
    "    #print(accuracy)\n",
    "    sum=sum+accuracy\n",
    "\n",
    "\n",
    "\n",
    "#print(\"total sum\")\n",
    "#print(sum)\n",
    "\n",
    "\n",
    "average=sum/10\n",
    "print(\"average ten fold accuracy=\"+str(average))\n",
    "Accuracy_NB_Kfold=average\n",
    "\n",
    "\n",
    "print(\"########################################################################################\")\n",
    "####################################################### to get the best k fold model  \n",
    "#     list_test2=[]\n",
    "#     list_train2=[]\n",
    "#     list_test2.extend(data_foldlist[fold_index])\n",
    "#     for j in range(len(data_foldlist)):\n",
    "#         if(i!=j):\n",
    "#             list_train2.extend(data_foldlist[j])\n",
    "\n",
    "\n",
    "#     print(\"1\")\n",
    "#     rdd_test2=sc.parallelize(list_test2)\n",
    "#     rdd_train2=sc.parallelize(list_train2)\n",
    "#     #print(rdd_data)\n",
    "#     print(\"2\")\n",
    "#     training=rdd_train2\n",
    "#     test=rdd_test2\n",
    "#     #training, test = rdd_data.randomSplit([0.6, 0.4], seed=0)\n",
    "#     # Train a naive Bayes model.\n",
    "#    # print(type(training))\n",
    "#     #print(type(training.collect()[0]))\n",
    "#     print(\"3\")\n",
    "#     model = NaiveBayes.train(training, 1.0)\n",
    "#     print(\"4\")\n",
    "#     # Make prediction and test accuracy.\n",
    "#     predictionAndLabel = test.map(lambda p: (model.predict(p.features), p.label))\n",
    "#     print(\"5\")\n",
    "#     accuracy = 1.0 * predictionAndLabel.filter(lambda t: t[0] == t[1]).count() / test.count()\n",
    "#     print(\"6\")\n",
    "#     print(\"ekdkfkdgdglksdkgsdgflsdlf\")\n",
    "#     print(\"best accuracy after training is\")\n",
    "#     print(accuracy)\n",
    "######################################################################################################################"
   ]
  },
  {
   "cell_type": "markdown",
   "metadata": {},
   "source": [
    "In the following code I find 10 fold accuracy for Logistic Regression. It is done by dividing the data which I got from train.csv\n",
    "into 10 equal parts and then training the model on nine parts and testing on one part and repeat it for all possible parts for \n",
    "training and testing."
   ]
  },
  {
   "cell_type": "code",
   "execution_count": 13,
   "metadata": {
    "collapsed": false
   },
   "outputs": [
    {
     "name": "stdout",
     "output_type": "stream",
     "text": [
      "###################### To calculate 10fold accuracy for LogicalRegression ######################################\n",
      "Training of naive Bayes model started\n",
      "fold number 0\n",
      "Training Error = 0.284\n",
      "Accuracy for fold number 0=0.716\n",
      "fold number 1\n",
      "Training Error = 0.271875\n",
      "Accuracy for fold number 1=0.728125\n",
      "fold number 2\n",
      "Training Error = 0.28225\n",
      "Accuracy for fold number 2=0.71775\n",
      "fold number 3\n",
      "Training Error = 0.27475\n",
      "Accuracy for fold number 3=0.72525\n",
      "fold number 4\n",
      "Training Error = 0.275875\n",
      "Accuracy for fold number 4=0.724125\n",
      "fold number 5\n",
      "Training Error = 0.271125\n",
      "Accuracy for fold number 5=0.7288749999999999\n",
      "fold number 6\n",
      "Training Error = 0.2765\n",
      "Accuracy for fold number 6=0.7235\n",
      "fold number 7\n",
      "Training Error = 0.27625\n",
      "Accuracy for fold number 7=0.72375\n",
      "fold number 8\n",
      "Training Error = 0.273375\n",
      "Accuracy for fold number 8=0.7266250000000001\n",
      "fold number 9\n",
      "Training Error = 0.274125\n",
      "Accuracy for fold number 9=0.725875\n",
      "average ten fold accuracy=0.7239875\n",
      "########################################################################################\n"
     ]
    }
   ],
   "source": [
    "print(\"###################### To calculate 10fold accuracy for LogicalRegression ######################################\")\n",
    "print(\"Training of Logical Regression model started\")\n",
    "sum=0\n",
    "for i in range(len(data_foldlist)):\n",
    "    list_test=[]\n",
    "    list_train=[]\n",
    "    list_test.extend(data_foldlist[i])\n",
    "    for j in range(len(data_foldlist)):\n",
    "        if(i!=j):\n",
    "            list_train.extend(data_foldlist[j])\n",
    "\n",
    "\n",
    "    rdd_test=sc.parallelize(list_test)\n",
    "    rdd_train=sc.parallelize(list_train)\n",
    "\n",
    "    training=rdd_train\n",
    "    test=rdd_test\n",
    "\n",
    "\n",
    "\n",
    "    model = LogisticRegressionWithLBFGS.train(training)\n",
    "    labelsAndPreds = test.map(lambda p: (p.label, model.predict(p.features)))\n",
    "    trainErr = labelsAndPreds.filter(lambda t: t[0] != t[1]).count() / float(test.count())\n",
    "\n",
    "    print(\"fold number \"+ str(i))\n",
    "\n",
    "    #print(accuracy)\n",
    "    #sum=sum+accuracy\n",
    "\n",
    "    #print(\"fold number\")\n",
    "    print(\"Training Error = \" + str(trainErr))\n",
    "    accuracy=1-trainErr\n",
    "    print(\"Accuracy for fold number \"+str(i)+\"=\"+str(accuracy))\n",
    "    sum=sum+accuracy\n",
    "\n",
    "#print(\"total sum\")\n",
    "#print(sum)\n",
    "\n",
    "#print(\"average ten fold accuracy for logical regression\")\n",
    "average=sum/10\n",
    "print(\"average ten fold accuracy=\"+str(average))\n",
    "Accuracy_LR_Kfold=average\n",
    "#print(average)\n",
    "#return average\n",
    "\n",
    "print(\"########################################################################################\")\n",
    "\n",
    "\n",
    "\n",
    "\n",
    "\n",
    "\n",
    "\n"
   ]
  },
  {
   "cell_type": "markdown",
   "metadata": {},
   "source": [
    "The following code is used to plot the training accuracy, Testing accuracy and 10 fold Accuracy for Naive Bayes using matplotlib"
   ]
  },
  {
   "cell_type": "code",
   "execution_count": 27,
   "metadata": {
    "collapsed": true
   },
   "outputs": [],
   "source": [
    "def PlotGraphNB(x_a,y_a):\n",
    "    %matplotlib inline\n",
    "    x=x_a\n",
    "    y=y_a\n",
    "    fig = plt.figure(figsize=(12,8))\n",
    "    plt.bar(x,y,label='Accuracy comparison',color='c')\n",
    "    plt.xlabel('Accuracy Comparison for NaiveBayes')\n",
    "    plt.ylabel('Accuracy')\n",
    "    labels = ['Training Accuracy', 'Testing Accuracy','10 fold Accuracy']\n",
    "\n",
    "\n",
    "    plt.xticks(x, labels, rotation='45')\n",
    "\n",
    "    plt.legend()\n",
    "    plt.show()"
   ]
  },
  {
   "cell_type": "markdown",
   "metadata": {},
   "source": [
    "The following code is used to plot the training accuracy, Testing accuracy and 10 fold Accuracy for Logistic Regression\n",
    "using matplotlib"
   ]
  },
  {
   "cell_type": "code",
   "execution_count": 33,
   "metadata": {
    "collapsed": true
   },
   "outputs": [],
   "source": [
    "def PlotGraphLR(x_a,y_a):\n",
    "    %matplotlib inline\n",
    "    x=x_a\n",
    "    y=y_a\n",
    "    fig = plt.figure(figsize=(12,8))\n",
    "    plt.bar(x,y,label='Accuracy comparison',color='c')\n",
    "    plt.xlabel('Accuracy Comparison for Logistic Regression')\n",
    "    plt.ylabel('Accuracy')\n",
    "    labels = ['Training Accuracy', 'Testing Accuracy','10 fold Accuracy']\n",
    "\n",
    "\n",
    "    plt.xticks(x, labels, rotation='45')\n",
    "\n",
    "    plt.legend()\n",
    "    plt.show()"
   ]
  },
  {
   "cell_type": "markdown",
   "metadata": {},
   "source": [
    "The following code is used to plot the training accuracy, Testing accuracy and 10 fold Accuracy for Naive Bayes and \n",
    "Logistic Regression on the same graph using matplotlib"
   ]
  },
  {
   "cell_type": "code",
   "execution_count": 47,
   "metadata": {
    "collapsed": true
   },
   "outputs": [],
   "source": [
    "def PlotGraph(x_NB,y_NB,x_LR,y_LR):\n",
    "    %matplotlib inline\n",
    "    x1=x_NB\n",
    "    y1=y_NB\n",
    "    x2=x_LR\n",
    "    y2=y_LR\n",
    "    fig = plt.figure(figsize=(12,8))\n",
    "    plt.bar(x1,y1,1.0,label='Naive Bayes',color='c')\n",
    "    plt.bar(x2,y2,1.0,label='Logistic Regression',color='r')\n",
    "    plt.xlabel('Accuracy Comparison for Naive Bayes and Logistic Regression')\n",
    "    plt.ylabel('Accuracy')\n",
    "    labels = ['Training Accuracy', 'Testing Accuracy','10 fold Accuracy']\n",
    "\n",
    "\n",
    "    plt.xticks(x2, labels)#, rotation='horizontal')\n",
    "\n",
    "    plt.legend()\n",
    "    plt.show()"
   ]
  },
  {
   "cell_type": "markdown",
   "metadata": {},
   "source": [
    "The following Code creates a two lists. The first list contains [2,4,6] and second list contains training,test and K fold \n",
    "accuracy for Naive Bayes and calls PlotGraphNB function to plot the accuracies for Naive Bayes"
   ]
  },
  {
   "cell_type": "code",
   "execution_count": 34,
   "metadata": {
    "collapsed": false
   },
   "outputs": [
    {
     "data": {
      "image/png": "[encoded data removed]",
      "text/plain": [
       "<matplotlib.figure.Figure at 0x7f2d3acf1dd8>"
      ]
     },
     "metadata": {},
     "output_type": "display_data"
    }
   ],
   "source": [
    "# Plot Naive Bayes Accuracy Graph\n",
    "x_NB= [2,4,6]\n",
    "y_NB=[]\n",
    "\n",
    "y_NB.append(Accuracy_NB_training)\n",
    "y_NB.append(Accuracy_NB_test)\n",
    "y_NB.append(Accuracy_NB_Kfold)\n",
    "\n",
    "PlotGraphNB(x_NB,y_NB)"
   ]
  },
  {
   "cell_type": "markdown",
   "metadata": {},
   "source": [
    "The following Code creates a two lists. The first list contains [2,4,6] and second list contains training,test and K fold accuracy\n",
    "for LogisticRegression and calls PlotGraphLR function to plot the accuracies for LogisticRegression"
   ]
  },
  {
   "cell_type": "code",
   "execution_count": 32,
   "metadata": {
    "collapsed": false
   },
   "outputs": [
    {
     "data": {
      "image/png": "[encoded data removed]",
      "text/plain": [
       "<matplotlib.figure.Figure at 0x7f2d3b0dfb38>"
      ]
     },
     "metadata": {},
     "output_type": "display_data"
    }
   ],
   "source": [
    "# Plot Logistic Regression Accuracy Graph\n",
    "x_LR=[2,4,6]\n",
    "y_LR=[]\n",
    "\n",
    "y_LR.append(Accuracy_LR_training)\n",
    "y_LR.append(Accuracy_LR_test)\n",
    "y_LR.append(Accuracy_LR_Kfold)\n",
    "\n",
    "PlotGraphLR(x_LR,y_LR)\n",
    "\n",
    "    "
   ]
  },
  {
   "cell_type": "markdown",
   "metadata": {},
   "source": [
    "\n",
    "The following code creates 4 lists. Two for Naive Bayes and two for Logistic Regression and Calls the PlotGraph to plot the \n",
    "accuracies for both NaiveBayes and Logistic Regression on the same graph"
   ]
  },
  {
   "cell_type": "code",
   "execution_count": 48,
   "metadata": {
    "collapsed": false
   },
   "outputs": [
    {
     "data": {
      "image/png": "[encoded data removed]",
      "text/plain": [
       "<matplotlib.figure.Figure at 0x7f2d3a3886d8>"
      ]
     },
     "metadata": {},
     "output_type": "display_data"
    }
   ],
   "source": [
    "x_NB= [1,4,7]\n",
    "y_NB=[]\n",
    "\n",
    "y_NB.append(Accuracy_NB_training)\n",
    "y_NB.append(Accuracy_NB_test)\n",
    "y_NB.append(Accuracy_NB_Kfold)\n",
    "\n",
    "x_LR=[2,5,8]\n",
    "y_LR=[]\n",
    "\n",
    "y_LR.append(Accuracy_LR_training)\n",
    "y_LR.append(Accuracy_LR_test)\n",
    "y_LR.append(Accuracy_LR_Kfold)\n",
    "\n",
    "PlotGraph(x_NB,y_NB,x_LR,y_LR)\n",
    "\n",
    "#PlotGraphNB(x_NB,y_NB)"
   ]
  },
  {
   "cell_type": "markdown",
   "metadata": {},
   "source": [
    "The following code is used to plot ROC curve for Logistic Regression. I set the initial value of threshold as 0.2 and calculate\n",
    "true positive rate(TPR) and false positive rate(FPR) and then increase the threshold by 0.2 till it reaches 1.0. Then I plot ROC \n",
    "curve with FPR on x axis and TPR on y axis."
   ]
  },
  {
   "cell_type": "code",
   "execution_count": 52,
   "metadata": {
    "collapsed": false
   },
   "outputs": [
    {
     "name": "stdout",
     "output_type": "stream",
     "text": [
      "###################### To Plot ROC curve for Logistic Regression ######################################\n",
      "Logistic Regression model training started\n"
     ]
    },
    {
     "data": {
      "image/png": "[encoded data removed]",
      "text/plain": [
       "<matplotlib.figure.Figure at 0x7f2d3b0b0588>"
      ]
     },
     "metadata": {},
     "output_type": "display_data"
    }
   ],
   "source": [
    "print(\"###################### To Plot ROC curve for Logistic Regression ######################################\")\n",
    "pol_list=polarity_list\n",
    "tweet_list=orig_tweet\n",
    "rdd_train=sc.parallelize(data)\n",
    "rdd_test=sc.parallelize(test_data)\n",
    "training=rdd_train\n",
    "test=rdd_test\n",
    "# Train a naive Bayes model.\n",
    "\n",
    "print(\"Logistic Regression model training started\")\n",
    "model = LogisticRegressionWithLBFGS.train(training)\n",
    "x=0.02\n",
    "tpr_list=[]\n",
    "fpr_list=[]\n",
    "model.setThreshold(x)\n",
    "while x<=1.0:\n",
    "    labelsAndPreds = test.map(lambda p: (p.label, model.predict(p.features)))\n",
    "    trainErr = labelsAndPreds.filter(lambda t: t[0] != t[1]).count() / float(test.count())\n",
    "    #print(\"Training Error = \" + str(trainErr))\n",
    "    #accuracy=1-trainErr\n",
    "    #print(\"Test accuracy for Logistic Regression =\"+ str(accuracy))\n",
    "    ###########################################################################\n",
    "    TP=labelsAndPreds.filter(lambda t: t[0] == t[1] and t[1]==1).count()\n",
    "    TN=labelsAndPreds.filter(lambda t: t[0] == t[1] and t[1]==0).count()\n",
    "    FP=labelsAndPreds.filter(lambda t: t[0] != t[1] and t[1]==0).count()\n",
    "    FN=labelsAndPreds.filter(lambda t: t[0] != t[1] and t[1]==1).count()\n",
    "\n",
    "    #precision=TP/(TP+FP)\n",
    "    TPR=TP/(TP+FN)\n",
    "    FPR=FP/(FP+TN)\n",
    "    tpr_list.append(TPR)\n",
    "    fpr_list.append(FPR)\n",
    "    x=x+0.02\n",
    "    model.setThreshold(x)\n",
    "    \n",
    "#fpr_list=fpr_list.sort()\n",
    "    \n",
    "plt.plot(fpr_list,tpr_list,\"b-o\")\n",
    "plt.xlabel(\"False Positive rate\")\n",
    "plt.ylabel(\"True Positive rate\")\n",
    "plt.title(\"ROC curve for Logical Regression\")\n",
    "plt.show()\n",
    "\n",
    "\n"
   ]
  },
  {
   "cell_type": "code",
   "execution_count": null,
   "metadata": {
    "collapsed": true
   },
   "outputs": [],
   "source": []
  }
 ],
 "metadata": {
  "kernelspec": {
   "display_name": "Python 3",
   "language": "python",
   "name": "python3"
  },
  "language_info": {
   "codemirror_mode": {
    "name": "ipython",
    "version": 3
   },
   "file_extension": ".py",
   "mimetype": "text/x-python",
   "name": "python",
   "nbconvert_exporter": "python",
   "pygments_lexer": "ipython3",
   "version": "3.5.1"
  }
 },
 "nbformat": 4,
 "nbformat_minor": 0
}
